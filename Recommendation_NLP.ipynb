{
 "cells": [
  {
   "cell_type": "markdown",
   "metadata": {},
   "source": [
    "### Crafting Recommendations based on user's interests with NLP Models\n"
   ]
  },
  {
   "cell_type": "markdown",
   "metadata": {},
   "source": [
    "#### Determining challenges to tackle\n",
    "The vast amount of information available has led to an overwhelming number of choices for users. As a result, recommendation systems have become essential tools for developers to help users discover relevant products or content. Traditional methods often relied on keywords filtering or content-based filtering, but advancements in Natural Language Processing (NLP) and transformer models have opened up new possibilities for building more sophisticated and context-aware recommendation systems.\n"
   ]
  },
  {
   "cell_type": "markdown",
   "metadata": {},
   "source": [
    "#### Key Objectives\n",
    "* Semantic Understanding: Utilize NLP models to extract meaningful semantic information from both user input and product descriptions.\n",
    "\n",
    "* Context-Aware Recommendations: Build a recommendation system that understands the context and preferences with providing more accurate and context-aware suggestions.\n",
    "\n",
    "* Scalability: Design the system to be scalable, allowing for efficient handling of large datasets and a growing number of products."
   ]
  },
  {
   "cell_type": "markdown",
   "metadata": {},
   "source": [
    "#### Technical Framework\n",
    "* Step 1: Using embedding, map all descriptions to a low-dimensional vector space, obtaining \"description vectors.\"\n",
    "\n",
    "* Step 2: Same to embedding query (user input)\n",
    "\n",
    "* Step 3: Compare the similarity (vector similarity) using cosine similarity score between the Query and each description vectors, retrieving a set of the most similar descriptions.\n",
    "\n",
    "* Step 4: return the list of recommended products\n",
    "\n"
   ]
  },
  {
   "cell_type": "markdown",
   "metadata": {},
   "source": [
    "<img src=\"img/nlp.png\" alt=\"nlp\" style=\"width:100%;\"/>"
   ]
  },
  {
   "cell_type": "markdown",
   "metadata": {},
   "source": [
    "### Why embedding\n",
    "An \"embedding\" refers to a numerical representation of words, phrases, or sentences in a continuous vector space. It is fast and less expensive comparing with other methods.\n",
    "  \n",
    "Why not just use full-text search such as Lucene? Imaging there are more information perceived from text than just vocabulary, including grammar, semantics, emotions, feelings, themes, context. For instance, nuts and almonds, outdoor and bike. "
   ]
  },
  {
   "cell_type": "markdown",
   "metadata": {},
   "source": [
    "### Let's start from pre-trained NLP model from SentenceTransformer\n",
    "Based on my research, the all-mpnet-base-v2 (https://huggingface.co/sentence-transformers/all-mpnet-base-v2) model is evaluated as one of the top performance regarding to semantics search. "
   ]
  },
  {
   "cell_type": "code",
   "execution_count": 2,
   "metadata": {},
   "outputs": [],
   "source": [
    "from sentence_transformers import SentenceTransformer, util\n",
    "\n",
    "# Load a pre-trained sentence embedding model\n",
    "embed_model = SentenceTransformer('all-mpnet-base-v2')"
   ]
  },
  {
   "cell_type": "code",
   "execution_count": 8,
   "metadata": {},
   "outputs": [
    {
     "name": "stdout",
     "output_type": "stream",
     "text": [
      "Cosine Similarity Matrix:\n",
      "tensor([[ 1.0000,  0.5814,  0.4435,  0.4848,  0.3636, -0.0497,  0.1315],\n",
      "        [ 0.5814,  1.0000,  0.4952,  0.6263,  0.4216, -0.0394,  0.1140],\n",
      "        [ 0.4435,  0.4952,  1.0000,  0.4947,  0.7890, -0.0284,  0.1381],\n",
      "        [ 0.4848,  0.6263,  0.4947,  1.0000,  0.4441,  0.0206,  0.2155],\n",
      "        [ 0.3636,  0.4216,  0.7890,  0.4441,  1.0000, -0.0332,  0.0863],\n",
      "        [-0.0497, -0.0394, -0.0284,  0.0206, -0.0332,  1.0000,  0.1699],\n",
      "        [ 0.1315,  0.1140,  0.1381,  0.2155,  0.0863,  0.1699,  1.0000]])\n"
     ]
    }
   ],
   "source": [
    "## Example\n",
    "## examples\n",
    "examples = [\n",
    "    \"what is the Capital City of USA?\",\n",
    "    \"Washington D.C.\",\n",
    "    \"Beijing\",\n",
    "    \"Seattle\",\n",
    "    \"Shenzhen\",\n",
    "    \"Climate change poses significant challenges to global ecosystems.\",\n",
    "    \"How is the weather today?\"\n",
    "]\n",
    "# Compute embeddings for the sentences\n",
    "sentence_embeddings = embed_model.encode(examples, convert_to_tensor=True)\n",
    "\n",
    "# Calculate cosine similarity between pairs of sentences\n",
    "cosine_similarity_matrix = util.pytorch_cos_sim(sentence_embeddings, sentence_embeddings)\n",
    "\n",
    "# Print the cosine similarity matrix\n",
    "print(\"Cosine Similarity Matrix:\")\n",
    "print(cosine_similarity_matrix)"
   ]
  },
  {
   "cell_type": "markdown",
   "metadata": {},
   "source": [
    "From the above similarity matrix, you can see that the sentence of \"what is the Capital City of USA?\" is most similar with \"Washington D.C.\" with score 0.5814. Seattle is the second highest one with score 0.4848 because it is one of city in USA. Beijing is the third place with score 0.4435 since it is also a capital city but not in USA. And \"Shenzhen\" is the next place since it is a city but not in USA. The later two sentences are weakly similar to \"what is the Capital City of USA?\" since there is no relavent information being mentioned. "
   ]
  },
  {
   "cell_type": "code",
   "execution_count": 10,
   "metadata": {},
   "outputs": [
    {
     "name": "stdout",
     "output_type": "stream",
     "text": [
      "Product: Gear up for your next outdoor adventure with the AdventureTech Waterproof Backpack. This rugged backpack is designed for durability and functionality, featuring multiple compartments, waterproof zippers, and padded shoulder straps. Whether you're hiking, camping, or commuting, this backpack ensures your essentials stay safe and dry. | Similarity: 0.4568\n",
      "Product: Immerse yourself in superior audio quality with our QuantumSound Wireless Earbuds. These sleek earbuds feature advanced noise-canceling technology, ensuring a crystal-clear sound experience. With touch controls and a long-lasting battery life, these earbuds are perfect for music enthusiasts on the go. | Similarity: 0.2009\n",
      "Product: Transform your kitchen with the SmartChef Multifunctional Cooking Appliance. This versatile device combines a pressure cooker, slow cooker, air fryer, and more into a single compact unit. With smart connectivity and an intuitive control panel, it simplifies meal preparation, letting you create delicious and healthy dishes with ease. | Similarity: 0.1738\n",
      "Product: Take control of your home's climate with the EcoSmart Smart Thermostat. This intelligent thermostat learns your preferences over time and adjusts heating and cooling to optimize energy efficiency. With a user-friendly interface and compatibility with smart home ecosystems, it's a sustainable and convenient choice for modern homes. | Similarity: 0.1522\n",
      "Product: Elevate your sleep experience with LuxeLiving Organic Cotton Bed Sheets. Crafted from 100% organic cotton, these luxurious sheets offer a silky-smooth feel and breathability. With a sateen weave and timeless design, they add a touch of elegance to any bedroom while promoting a comfortable and eco-friendly night's rest. | Similarity: 0.0533\n"
     ]
    }
   ],
   "source": [
    "import nltk\n",
    "# Example product descriptions (long paragraphs)\n",
    "## This product descriptions are generated by ChatGPT\n",
    "## Product1: QuantumSound Wireless Earbuds\n",
    "## Product2: EcoSmart Smart Thermostat\n",
    "## Product3: AdventureTech Waterproof Backpack\n",
    "## Product4: LuxeLiving Organic Cotton Bed Sheets\n",
    "## Product5: SmartChef Multifunctional Cooking Appliance\n",
    "product_descriptions = [\n",
    "    \"Immerse yourself in superior audio quality with our QuantumSound Wireless Earbuds. These sleek earbuds feature advanced noise-canceling technology, ensuring a crystal-clear sound experience. With touch controls and a long-lasting battery life, these earbuds are perfect for music enthusiasts on the go.\",\n",
    "    \"Take control of your home's climate with the EcoSmart Smart Thermostat. This intelligent thermostat learns your preferences over time and adjusts heating and cooling to optimize energy efficiency. With a user-friendly interface and compatibility with smart home ecosystems, it's a sustainable and convenient choice for modern homes.\",\n",
    "    \"Gear up for your next outdoor adventure with the AdventureTech Waterproof Backpack. This rugged backpack is designed for durability and functionality, featuring multiple compartments, waterproof zippers, and padded shoulder straps. Whether you're hiking, camping, or commuting, this backpack ensures your essentials stay safe and dry.\",\n",
    "    \"Elevate your sleep experience with LuxeLiving Organic Cotton Bed Sheets. Crafted from 100% organic cotton, these luxurious sheets offer a silky-smooth feel and breathability. With a sateen weave and timeless design, they add a touch of elegance to any bedroom while promoting a comfortable and eco-friendly night's rest.\",\n",
    "    \"Transform your kitchen with the SmartChef Multifunctional Cooking Appliance. This versatile device combines a pressure cooker, slow cooker, air fryer, and more into a single compact unit. With smart connectivity and an intuitive control panel, it simplifies meal preparation, letting you create delicious and healthy dishes with ease.\"\n",
    "]\n",
    "\n",
    "# User input (interests)\n",
    "user_interests = \"Looking for a product for outdoor activities.\"\n",
    "\n",
    "# Text cleaning and sentence tokenization\n",
    "cleaned_descriptions = []\n",
    "for description in product_descriptions:\n",
    "    # Example: Lowercasing and removing punctuation\n",
    "    cleaned_description = description.lower().replace(\".\", \"\").replace(\",\", \"\")\n",
    "    # Add more cleaning steps as needed\n",
    "    \n",
    "    # Tokenize the cleaned text into sentences\n",
    "    sentences = nltk.sent_tokenize(cleaned_description)\n",
    "    \n",
    "    # Encode each sentence separately\n",
    "    sentence_embeddings = embed_model.encode(sentences, convert_to_tensor=True)\n",
    "    \n",
    "    \n",
    "    # Store the cleaned and encoded description\n",
    "    cleaned_descriptions.append({\n",
    "        \"original_description\": description,\n",
    "        \"cleaned_description\": cleaned_description,\n",
    "        \"document_embedding\": sentence_embeddings\n",
    "    })\n",
    "\n",
    "# Encode user interests to obtain an embedding\n",
    "user_interest_embedding = embed_model.encode(user_interests, convert_to_tensor=True)\n",
    "\n",
    "# Calculate cosine similarity between user interests and product embeddings\n",
    "similarities = [util.pytorch_cos_sim(user_interest_embedding, desc[\"document_embedding\"]).item() for desc in cleaned_descriptions]\n",
    "\n",
    "# Combine product descriptions with similarity scores\n",
    "recommendations = list(zip(product_descriptions, similarities))\n",
    "\n",
    "# Sort recommendations by similarity score (higher score means more similar)\n",
    "recommendations.sort(key=lambda x: x[1], reverse=True)\n",
    "\n",
    "# Display top recommendations\n",
    "for product, similarity in recommendations:\n",
    "    print(f\"Product: {product} | Similarity: {similarity:.4f}\")\n"
   ]
  },
  {
   "cell_type": "markdown",
   "metadata": {},
   "source": [
    "You can see the \"AdventureTech Waterproof Backpack\" has the highest similarity score (0.4568) when the user asking a product for outdoor activities!"
   ]
  }
 ],
 "metadata": {
  "kernelspec": {
   "display_name": "Python 3",
   "language": "python",
   "name": "python3"
  },
  "language_info": {
   "codemirror_mode": {
    "name": "ipython",
    "version": 3
   },
   "file_extension": ".py",
   "mimetype": "text/x-python",
   "name": "python",
   "nbconvert_exporter": "python",
   "pygments_lexer": "ipython3",
   "version": "3.9.6"
  }
 },
 "nbformat": 4,
 "nbformat_minor": 2
}
